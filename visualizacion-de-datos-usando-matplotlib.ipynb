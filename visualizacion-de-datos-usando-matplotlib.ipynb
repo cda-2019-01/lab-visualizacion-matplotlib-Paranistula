{
 "cells": [
  {
   "cell_type": "markdown",
   "metadata": {},
   "source": [
    "LAB: Visualización de datos usando Matplotlib\n",
    "=========================================="
   ]
  },
  {
   "cell_type": "code",
   "execution_count": 10,
   "metadata": {},
   "outputs": [],
   "source": [
    "## inicialización\n",
    "import numpy as np\n",
    "import matplotlib.pyplot as plt\n",
    "import matplotlib as mpl\n",
    "import pandas as pd\n",
    "%matplotlib inline\n",
    "import os"
   ]
  },
  {
   "cell_type": "markdown",
   "metadata": {},
   "source": [
    "## Punto 1"
   ]
  },
  {
   "cell_type": "markdown",
   "metadata": {},
   "source": [
    "Construya una gráfica similar a la siguiente usando el archivo `indicadores-mundiales.csv`. Se grafica la suma del porcetaje de la población por regiones.\n",
    "\n",
    "![act2](images/suma-pob-region-edades-2.png)\n"
   ]
  },
  {
   "cell_type": "code",
   "execution_count": 11,
   "metadata": {},
   "outputs": [
    {
     "data": {
      "text/html": [
       "<div>\n",
       "<style scoped>\n",
       "    .dataframe tbody tr th:only-of-type {\n",
       "        vertical-align: middle;\n",
       "    }\n",
       "\n",
       "    .dataframe tbody tr th {\n",
       "        vertical-align: top;\n",
       "    }\n",
       "\n",
       "    .dataframe thead th {\n",
       "        text-align: right;\n",
       "    }\n",
       "</style>\n",
       "<table border=\"1\" class=\"dataframe\">\n",
       "  <thead>\n",
       "    <tr style=\"text-align: right;\">\n",
       "      <th></th>\n",
       "      <th>Ano</th>\n",
       "      <th>Dias para iniciar un negocio</th>\n",
       "      <th>Emisiones de CO2</th>\n",
       "      <th>Esperanza de vida (mujeres)</th>\n",
       "      <th>Esperanza de vida (varones)</th>\n",
       "      <th>Facilidad para hacer negocios</th>\n",
       "      <th>Gasto en salud ( del PIB)</th>\n",
       "      <th>Gasto en salud (per capita)</th>\n",
       "      <th>Horas preparar los impuestos</th>\n",
       "      <th>Interes de prestamos</th>\n",
       "      <th>...</th>\n",
       "      <th>Poblacion urbana</th>\n",
       "      <th>Region</th>\n",
       "      <th>Tasa de mortalidad infantil</th>\n",
       "      <th>Tasa de natalidad</th>\n",
       "      <th>Tasa tributaria empresarial</th>\n",
       "      <th>Turismo emisor</th>\n",
       "      <th>Turismo receptivo</th>\n",
       "      <th>Uso de Internet</th>\n",
       "      <th>Uso de energia</th>\n",
       "      <th>Uso de telefonos celulares</th>\n",
       "    </tr>\n",
       "  </thead>\n",
       "  <tbody>\n",
       "    <tr>\n",
       "      <th>0</th>\n",
       "      <td>2000-12-01</td>\n",
       "      <td>NaN</td>\n",
       "      <td>87931.0</td>\n",
       "      <td>71.0</td>\n",
       "      <td>67.0</td>\n",
       "      <td>NaN</td>\n",
       "      <td>3.5</td>\n",
       "      <td>60.0</td>\n",
       "      <td>NaN</td>\n",
       "      <td>10.0</td>\n",
       "      <td>...</td>\n",
       "      <td>59.9</td>\n",
       "      <td>africa</td>\n",
       "      <td>3.4</td>\n",
       "      <td>2.0</td>\n",
       "      <td>NaN</td>\n",
       "      <td>193000000.0</td>\n",
       "      <td>102000000.0</td>\n",
       "      <td>0.0</td>\n",
       "      <td>26998.0</td>\n",
       "      <td>0.0</td>\n",
       "    </tr>\n",
       "    <tr>\n",
       "      <th>1</th>\n",
       "      <td>2000-12-01</td>\n",
       "      <td>NaN</td>\n",
       "      <td>9542.0</td>\n",
       "      <td>47.0</td>\n",
       "      <td>44.0</td>\n",
       "      <td>NaN</td>\n",
       "      <td>3.4</td>\n",
       "      <td>22.0</td>\n",
       "      <td>NaN</td>\n",
       "      <td>103.2</td>\n",
       "      <td>...</td>\n",
       "      <td>32.4</td>\n",
       "      <td>africa</td>\n",
       "      <td>12.8</td>\n",
       "      <td>5.0</td>\n",
       "      <td>NaN</td>\n",
       "      <td>146000000.0</td>\n",
       "      <td>34000000.0</td>\n",
       "      <td>0.0</td>\n",
       "      <td>7499.0</td>\n",
       "      <td>0.0</td>\n",
       "    </tr>\n",
       "    <tr>\n",
       "      <th>2</th>\n",
       "      <td>2000-12-01</td>\n",
       "      <td>NaN</td>\n",
       "      <td>1617.0</td>\n",
       "      <td>57.0</td>\n",
       "      <td>53.0</td>\n",
       "      <td>NaN</td>\n",
       "      <td>4.3</td>\n",
       "      <td>15.0</td>\n",
       "      <td>NaN</td>\n",
       "      <td>NaN</td>\n",
       "      <td>...</td>\n",
       "      <td>38.3</td>\n",
       "      <td>africa</td>\n",
       "      <td>9.0</td>\n",
       "      <td>4.3</td>\n",
       "      <td>NaN</td>\n",
       "      <td>50000000.0</td>\n",
       "      <td>77000000.0</td>\n",
       "      <td>0.0</td>\n",
       "      <td>1983.0</td>\n",
       "      <td>0.0</td>\n",
       "    </tr>\n",
       "    <tr>\n",
       "      <th>3</th>\n",
       "      <td>2000-12-01</td>\n",
       "      <td>NaN</td>\n",
       "      <td>4276.0</td>\n",
       "      <td>52.0</td>\n",
       "      <td>49.0</td>\n",
       "      <td>NaN</td>\n",
       "      <td>4.7</td>\n",
       "      <td>152.0</td>\n",
       "      <td>NaN</td>\n",
       "      <td>15.5</td>\n",
       "      <td>...</td>\n",
       "      <td>53.2</td>\n",
       "      <td>africa</td>\n",
       "      <td>5.4</td>\n",
       "      <td>2.7</td>\n",
       "      <td>NaN</td>\n",
       "      <td>209000000.0</td>\n",
       "      <td>227000000.0</td>\n",
       "      <td>0.0</td>\n",
       "      <td>1836.0</td>\n",
       "      <td>0.1</td>\n",
       "    </tr>\n",
       "    <tr>\n",
       "      <th>4</th>\n",
       "      <td>2000-12-01</td>\n",
       "      <td>NaN</td>\n",
       "      <td>1041.0</td>\n",
       "      <td>52.0</td>\n",
       "      <td>49.0</td>\n",
       "      <td>NaN</td>\n",
       "      <td>5.1</td>\n",
       "      <td>12.0</td>\n",
       "      <td>NaN</td>\n",
       "      <td>NaN</td>\n",
       "      <td>...</td>\n",
       "      <td>17.8</td>\n",
       "      <td>africa</td>\n",
       "      <td>9.6</td>\n",
       "      <td>4.6</td>\n",
       "      <td>NaN</td>\n",
       "      <td>30000000.0</td>\n",
       "      <td>23000000.0</td>\n",
       "      <td>0.0</td>\n",
       "      <td>NaN</td>\n",
       "      <td>0.0</td>\n",
       "    </tr>\n",
       "  </tbody>\n",
       "</table>\n",
       "<p>5 rows × 26 columns</p>\n",
       "</div>"
      ],
      "text/plain": [
       "          Ano  Dias para iniciar un negocio  Emisiones de CO2  \\\n",
       "0  2000-12-01                           NaN           87931.0   \n",
       "1  2000-12-01                           NaN            9542.0   \n",
       "2  2000-12-01                           NaN            1617.0   \n",
       "3  2000-12-01                           NaN            4276.0   \n",
       "4  2000-12-01                           NaN            1041.0   \n",
       "\n",
       "   Esperanza de vida (mujeres)  Esperanza de vida (varones)  \\\n",
       "0                         71.0                         67.0   \n",
       "1                         47.0                         44.0   \n",
       "2                         57.0                         53.0   \n",
       "3                         52.0                         49.0   \n",
       "4                         52.0                         49.0   \n",
       "\n",
       "   Facilidad para hacer negocios  Gasto en salud ( del PIB)  \\\n",
       "0                            NaN                        3.5   \n",
       "1                            NaN                        3.4   \n",
       "2                            NaN                        4.3   \n",
       "3                            NaN                        4.7   \n",
       "4                            NaN                        5.1   \n",
       "\n",
       "   Gasto en salud (per capita)  Horas preparar los impuestos  \\\n",
       "0                         60.0                           NaN   \n",
       "1                         22.0                           NaN   \n",
       "2                         15.0                           NaN   \n",
       "3                        152.0                           NaN   \n",
       "4                         12.0                           NaN   \n",
       "\n",
       "   Interes de prestamos  ...  Poblacion urbana  Region  \\\n",
       "0                  10.0  ...              59.9  africa   \n",
       "1                 103.2  ...              32.4  africa   \n",
       "2                   NaN  ...              38.3  africa   \n",
       "3                  15.5  ...              53.2  africa   \n",
       "4                   NaN  ...              17.8  africa   \n",
       "\n",
       "   Tasa de mortalidad infantil  Tasa de natalidad  \\\n",
       "0                          3.4                2.0   \n",
       "1                         12.8                5.0   \n",
       "2                          9.0                4.3   \n",
       "3                          5.4                2.7   \n",
       "4                          9.6                4.6   \n",
       "\n",
       "   Tasa tributaria empresarial  Turismo emisor  Turismo receptivo  \\\n",
       "0                          NaN     193000000.0        102000000.0   \n",
       "1                          NaN     146000000.0         34000000.0   \n",
       "2                          NaN      50000000.0         77000000.0   \n",
       "3                          NaN     209000000.0        227000000.0   \n",
       "4                          NaN      30000000.0         23000000.0   \n",
       "\n",
       "  Uso de Internet  Uso de energia  Uso de telefonos celulares  \n",
       "0             0.0         26998.0                         0.0  \n",
       "1             0.0          7499.0                         0.0  \n",
       "2             0.0          1983.0                         0.0  \n",
       "3             0.0          1836.0                         0.1  \n",
       "4             0.0             NaN                         0.0  \n",
       "\n",
       "[5 rows x 26 columns]"
      ]
     },
     "execution_count": 11,
     "metadata": {},
     "output_type": "execute_result"
    }
   ],
   "source": [
    "df = pd.read_csv('indicadores-mundiales.csv',\n",
    "                    sep=',', encoding='latin-1')\n",
    "df.head()"
   ]
  },
  {
   "cell_type": "code",
   "execution_count": 12,
   "metadata": {},
   "outputs": [],
   "source": [
    "copia = df.copy()\n",
    "(df.loc[df['Region'] == \"africa\", \"Region\"]) = \"Africa\""
   ]
  },
  {
   "cell_type": "code",
   "execution_count": 13,
   "metadata": {},
   "outputs": [
    {
     "data": {
      "text/html": [
       "<div>\n",
       "<style scoped>\n",
       "    .dataframe tbody tr th:only-of-type {\n",
       "        vertical-align: middle;\n",
       "    }\n",
       "\n",
       "    .dataframe tbody tr th {\n",
       "        vertical-align: top;\n",
       "    }\n",
       "\n",
       "    .dataframe thead th {\n",
       "        text-align: right;\n",
       "    }\n",
       "</style>\n",
       "<table border=\"1\" class=\"dataframe\">\n",
       "  <thead>\n",
       "    <tr style=\"text-align: right;\">\n",
       "      <th></th>\n",
       "      <th>Poblacion 0-14</th>\n",
       "      <th>Poblacion 15-64</th>\n",
       "      <th>Poblacion 65+</th>\n",
       "    </tr>\n",
       "    <tr>\n",
       "      <th>Region</th>\n",
       "      <th></th>\n",
       "      <th></th>\n",
       "      <th></th>\n",
       "    </tr>\n",
       "  </thead>\n",
       "  <tbody>\n",
       "    <tr>\n",
       "      <th>Africa</th>\n",
       "      <td>111.362</td>\n",
       "      <td>144.527</td>\n",
       "      <td>9.117</td>\n",
       "    </tr>\n",
       "    <tr>\n",
       "      <th>Asia</th>\n",
       "      <td>53.186</td>\n",
       "      <td>106.687</td>\n",
       "      <td>10.130</td>\n",
       "    </tr>\n",
       "    <tr>\n",
       "      <th>Europa</th>\n",
       "      <td>37.802</td>\n",
       "      <td>138.306</td>\n",
       "      <td>28.905</td>\n",
       "    </tr>\n",
       "    <tr>\n",
       "      <th>Las Americas</th>\n",
       "      <td>53.755</td>\n",
       "      <td>109.018</td>\n",
       "      <td>12.231</td>\n",
       "    </tr>\n",
       "    <tr>\n",
       "      <th>Oceania</th>\n",
       "      <td>17.848</td>\n",
       "      <td>31.331</td>\n",
       "      <td>2.825</td>\n",
       "    </tr>\n",
       "    <tr>\n",
       "      <th>Oriente Medio</th>\n",
       "      <td>17.547</td>\n",
       "      <td>32.511</td>\n",
       "      <td>1.942</td>\n",
       "    </tr>\n",
       "  </tbody>\n",
       "</table>\n",
       "</div>"
      ],
      "text/plain": [
       "               Poblacion 0-14  Poblacion 15-64  Poblacion 65+\n",
       "Region                                                       \n",
       "Africa                111.362          144.527          9.117\n",
       "Asia                   53.186          106.687         10.130\n",
       "Europa                 37.802          138.306         28.905\n",
       "Las Americas           53.755          109.018         12.231\n",
       "Oceania                17.848           31.331          2.825\n",
       "Oriente Medio          17.547           32.511          1.942"
      ]
     },
     "execution_count": 13,
     "metadata": {},
     "output_type": "execute_result"
    }
   ],
   "source": [
    "aux = (df.groupby('Region')['Poblacion 0-14','Poblacion 15-64','Poblacion 65+'].sum() / 100).sort_values(by='Region')\n",
    "aux"
   ]
  },
  {
   "cell_type": "code",
   "execution_count": 14,
   "metadata": {},
   "outputs": [
    {
     "data": {
      "text/html": [
       "<div>\n",
       "<style scoped>\n",
       "    .dataframe tbody tr th:only-of-type {\n",
       "        vertical-align: middle;\n",
       "    }\n",
       "\n",
       "    .dataframe tbody tr th {\n",
       "        vertical-align: top;\n",
       "    }\n",
       "\n",
       "    .dataframe thead th {\n",
       "        text-align: right;\n",
       "    }\n",
       "</style>\n",
       "<table border=\"1\" class=\"dataframe\">\n",
       "  <thead>\n",
       "    <tr style=\"text-align: right;\">\n",
       "      <th>Region</th>\n",
       "      <th>Africa</th>\n",
       "      <th>Asia</th>\n",
       "      <th>Europa</th>\n",
       "      <th>Las Americas</th>\n",
       "      <th>Oceania</th>\n",
       "      <th>Oriente Medio</th>\n",
       "    </tr>\n",
       "  </thead>\n",
       "  <tbody>\n",
       "    <tr>\n",
       "      <th>Poblacion 0-14</th>\n",
       "      <td>111.362</td>\n",
       "      <td>53.186</td>\n",
       "      <td>37.802</td>\n",
       "      <td>53.755</td>\n",
       "      <td>17.848</td>\n",
       "      <td>17.547</td>\n",
       "    </tr>\n",
       "    <tr>\n",
       "      <th>Poblacion 15-64</th>\n",
       "      <td>144.527</td>\n",
       "      <td>106.687</td>\n",
       "      <td>138.306</td>\n",
       "      <td>109.018</td>\n",
       "      <td>31.331</td>\n",
       "      <td>32.511</td>\n",
       "    </tr>\n",
       "    <tr>\n",
       "      <th>Poblacion 65+</th>\n",
       "      <td>9.117</td>\n",
       "      <td>10.130</td>\n",
       "      <td>28.905</td>\n",
       "      <td>12.231</td>\n",
       "      <td>2.825</td>\n",
       "      <td>1.942</td>\n",
       "    </tr>\n",
       "  </tbody>\n",
       "</table>\n",
       "</div>"
      ],
      "text/plain": [
       "Region            Africa     Asia   Europa  Las Americas  Oceania  \\\n",
       "Poblacion 0-14   111.362   53.186   37.802        53.755   17.848   \n",
       "Poblacion 15-64  144.527  106.687  138.306       109.018   31.331   \n",
       "Poblacion 65+      9.117   10.130   28.905        12.231    2.825   \n",
       "\n",
       "Region           Oriente Medio  \n",
       "Poblacion 0-14          17.547  \n",
       "Poblacion 15-64         32.511  \n",
       "Poblacion 65+            1.942  "
      ]
     },
     "execution_count": 14,
     "metadata": {},
     "output_type": "execute_result"
    }
   ],
   "source": [
    "auxT = aux.T\n",
    "auxT"
   ]
  },
  {
   "cell_type": "code",
   "execution_count": 65,
   "metadata": {},
   "outputs": [
    {
     "data": {
      "image/png": "[encoded data removed]",
      "text/plain": [
       "<Figure size 1400x600 with 6 Axes>"
      ]
     },
     "metadata": {},
     "output_type": "display_data"
    }
   ],
   "source": [
    "fig, axs = plt.subplots(1, 6, sharex='col', sharey='row', figsize=(14, 6));\n",
    "plt.subplots_adjust(wspace = 0, hspace=0.1)\n",
    "plt.style.use('default')\n",
    "colors = ['blue', 'orange', 'green']\n",
    "for i, colname in enumerate(auxT.columns):\n",
    "    axs[i].scatter(list(auxT.index), auxT[colname], s=100, edgecolors=colors, linewidths=1, \n",
    "                       facecolors='none')\n",
    "    axs[i].set_title(colname)\n",
    "    plt.style.use('default')\n",
    "    for tick in axs[i].get_xticklabels():\n",
    "        tick.set_rotation(90)"
   ]
  },
  {
   "cell_type": "markdown",
   "metadata": {},
   "source": [
    "## Punto 2\n",
    "\n",
    "Construya una gráfica similar a la siguiente usando el archivo `indicadores-mundiales.csv`. Se grafica la suma del porcetaje de la población por regiones.\n",
    "\n",
    "![act2](images/suma-pob-region-edades-3.png)\n"
   ]
  },
  {
   "cell_type": "code",
   "execution_count": 66,
   "metadata": {},
   "outputs": [],
   "source": [
    "copia = df.copy()\n",
    "(df.loc[df['Region'] == \"africa\", \"Region\"]) = \"Africa\""
   ]
  },
  {
   "cell_type": "code",
   "execution_count": 67,
   "metadata": {},
   "outputs": [
    {
     "data": {
      "text/html": [
       "<div>\n",
       "<style scoped>\n",
       "    .dataframe tbody tr th:only-of-type {\n",
       "        vertical-align: middle;\n",
       "    }\n",
       "\n",
       "    .dataframe tbody tr th {\n",
       "        vertical-align: top;\n",
       "    }\n",
       "\n",
       "    .dataframe thead th {\n",
       "        text-align: right;\n",
       "    }\n",
       "</style>\n",
       "<table border=\"1\" class=\"dataframe\">\n",
       "  <thead>\n",
       "    <tr style=\"text-align: right;\">\n",
       "      <th></th>\n",
       "      <th>Poblacion 0-14</th>\n",
       "      <th>Poblacion 15-64</th>\n",
       "      <th>Poblacion 65+</th>\n",
       "    </tr>\n",
       "    <tr>\n",
       "      <th>Region</th>\n",
       "      <th></th>\n",
       "      <th></th>\n",
       "      <th></th>\n",
       "    </tr>\n",
       "  </thead>\n",
       "  <tbody>\n",
       "    <tr>\n",
       "      <th>Africa</th>\n",
       "      <td>111.362</td>\n",
       "      <td>144.527</td>\n",
       "      <td>9.117</td>\n",
       "    </tr>\n",
       "    <tr>\n",
       "      <th>Asia</th>\n",
       "      <td>53.186</td>\n",
       "      <td>106.687</td>\n",
       "      <td>10.130</td>\n",
       "    </tr>\n",
       "    <tr>\n",
       "      <th>Europa</th>\n",
       "      <td>37.802</td>\n",
       "      <td>138.306</td>\n",
       "      <td>28.905</td>\n",
       "    </tr>\n",
       "    <tr>\n",
       "      <th>Las Americas</th>\n",
       "      <td>53.755</td>\n",
       "      <td>109.018</td>\n",
       "      <td>12.231</td>\n",
       "    </tr>\n",
       "    <tr>\n",
       "      <th>Oceania</th>\n",
       "      <td>17.848</td>\n",
       "      <td>31.331</td>\n",
       "      <td>2.825</td>\n",
       "    </tr>\n",
       "    <tr>\n",
       "      <th>Oriente Medio</th>\n",
       "      <td>17.547</td>\n",
       "      <td>32.511</td>\n",
       "      <td>1.942</td>\n",
       "    </tr>\n",
       "  </tbody>\n",
       "</table>\n",
       "</div>"
      ],
      "text/plain": [
       "               Poblacion 0-14  Poblacion 15-64  Poblacion 65+\n",
       "Region                                                       \n",
       "Africa                111.362          144.527          9.117\n",
       "Asia                   53.186          106.687         10.130\n",
       "Europa                 37.802          138.306         28.905\n",
       "Las Americas           53.755          109.018         12.231\n",
       "Oceania                17.848           31.331          2.825\n",
       "Oriente Medio          17.547           32.511          1.942"
      ]
     },
     "execution_count": 67,
     "metadata": {},
     "output_type": "execute_result"
    }
   ],
   "source": [
    "aux = (df.groupby('Region')['Poblacion 0-14','Poblacion 15-64','Poblacion 65+'].sum() / 100).sort_values(by='Region')\n",
    "aux"
   ]
  },
  {
   "cell_type": "code",
   "execution_count": 68,
   "metadata": {},
   "outputs": [
    {
     "data": {
      "text/html": [
       "<div>\n",
       "<style scoped>\n",
       "    .dataframe tbody tr th:only-of-type {\n",
       "        vertical-align: middle;\n",
       "    }\n",
       "\n",
       "    .dataframe tbody tr th {\n",
       "        vertical-align: top;\n",
       "    }\n",
       "\n",
       "    .dataframe thead th {\n",
       "        text-align: right;\n",
       "    }\n",
       "</style>\n",
       "<table border=\"1\" class=\"dataframe\">\n",
       "  <thead>\n",
       "    <tr style=\"text-align: right;\">\n",
       "      <th>Region</th>\n",
       "      <th>Africa</th>\n",
       "      <th>Asia</th>\n",
       "      <th>Europa</th>\n",
       "      <th>Las Americas</th>\n",
       "      <th>Oceania</th>\n",
       "      <th>Oriente Medio</th>\n",
       "    </tr>\n",
       "  </thead>\n",
       "  <tbody>\n",
       "    <tr>\n",
       "      <th>Poblacion 0-14</th>\n",
       "      <td>111.362</td>\n",
       "      <td>53.186</td>\n",
       "      <td>37.802</td>\n",
       "      <td>53.755</td>\n",
       "      <td>17.848</td>\n",
       "      <td>17.547</td>\n",
       "    </tr>\n",
       "    <tr>\n",
       "      <th>Poblacion 15-64</th>\n",
       "      <td>144.527</td>\n",
       "      <td>106.687</td>\n",
       "      <td>138.306</td>\n",
       "      <td>109.018</td>\n",
       "      <td>31.331</td>\n",
       "      <td>32.511</td>\n",
       "    </tr>\n",
       "    <tr>\n",
       "      <th>Poblacion 65+</th>\n",
       "      <td>9.117</td>\n",
       "      <td>10.130</td>\n",
       "      <td>28.905</td>\n",
       "      <td>12.231</td>\n",
       "      <td>2.825</td>\n",
       "      <td>1.942</td>\n",
       "    </tr>\n",
       "  </tbody>\n",
       "</table>\n",
       "</div>"
      ],
      "text/plain": [
       "Region            Africa     Asia   Europa  Las Americas  Oceania  \\\n",
       "Poblacion 0-14   111.362   53.186   37.802        53.755   17.848   \n",
       "Poblacion 15-64  144.527  106.687  138.306       109.018   31.331   \n",
       "Poblacion 65+      9.117   10.130   28.905        12.231    2.825   \n",
       "\n",
       "Region           Oriente Medio  \n",
       "Poblacion 0-14          17.547  \n",
       "Poblacion 15-64         32.511  \n",
       "Poblacion 65+            1.942  "
      ]
     },
     "execution_count": 68,
     "metadata": {},
     "output_type": "execute_result"
    }
   ],
   "source": [
    "auxT = aux.T\n",
    "auxT"
   ]
  },
  {
   "cell_type": "code",
   "execution_count": 69,
   "metadata": {},
   "outputs": [
    {
     "data": {
      "image/png": "[encoded data removed]",
      "text/plain": [
       "<Figure size 1400x600 with 6 Axes>"
      ]
     },
     "metadata": {},
     "output_type": "display_data"
    }
   ],
   "source": [
    "fig, axs = plt.subplots(1, 6, sharex='col', sharey='row', figsize=(14, 6));\n",
    "plt.subplots_adjust(wspace = 0, hspace=0.1)\n",
    "plt.style.use('default')\n",
    "colors = ['blue', 'orange', 'green']\n",
    "for i, colname in enumerate(auxT.columns):\n",
    "    axs[i].bar(list(auxT.index), auxT[colname], color=colors)\n",
    "    axs[i].set_title(colname)\n",
    "    plt.style.use('default')\n",
    "    for tick in axs[i].get_xticklabels():\n",
    "        tick.set_rotation(90)"
   ]
  },
  {
   "cell_type": "markdown",
   "metadata": {},
   "source": [
    "## Punto 3\n",
    "Construya una gráfica similar a la siguiente usando el archivo `indicadores-mundiales.csv`. Se grafica la suma del porcetaje de la población por regiones.\n",
    "\n",
    "![act3](images/suma-pob-region-edades-4.png)"
   ]
  },
  {
   "cell_type": "code",
   "execution_count": 70,
   "metadata": {},
   "outputs": [],
   "source": [
    "(df.loc[df['Region'] == \"africa\", \"Region\"]) = \"Africa\"\n",
    "aux = (df.groupby('Region')['Poblacion 0-14','Poblacion 15-64','Poblacion 65+'].sum() / 100).sort_values(by='Region')"
   ]
  },
  {
   "cell_type": "code",
   "execution_count": 71,
   "metadata": {},
   "outputs": [
    {
     "data": {
      "image/png": "[encoded data removed]",
      "text/plain": [
       "<Figure size 1000x1400 with 3 Axes>"
      ]
     },
     "metadata": {},
     "output_type": "display_data"
    }
   ],
   "source": [
    "fig, axs = plt.subplots(3, 1, sharex='col', sharey='row', figsize=(10, 14));\n",
    "plt.xticks(rotation='vertical')\n",
    "plt.subplots_adjust(wspace = 0, hspace=0)\n",
    "colors = ['blue', 'orange', 'green']\n",
    "for i, colname in enumerate(aux.columns):\n",
    "    axs[i].bar(list(aux.index), aux[colname], color=colors[i])\n",
    "    axs[i].set_ylabel(colname)\n",
    "    for tick in axs[i].get_xticklabels():\n",
    "        tick.set_rotation(0)"
   ]
  },
  {
   "cell_type": "markdown",
   "metadata": {},
   "source": [
    "## Punto 4\n",
    "\n",
    "Construya una gráfica similar a la siguiente usando el archivo `indicadores-mundiales.csv`. Promedio de gastos per capita por año.\n",
    "\n",
    "![act4](images/prom-gastos-salud-per-capita-ano.png)"
   ]
  },
  {
   "cell_type": "code",
   "execution_count": 72,
   "metadata": {},
   "outputs": [],
   "source": [
    "soloyear=[]\n",
    "soloyear = [ z.split('-')[0] for z in df.Ano]\n",
    "df['soloyear']=soloyear"
   ]
  },
  {
   "cell_type": "code",
   "execution_count": 73,
   "metadata": {},
   "outputs": [
    {
     "data": {
      "text/plain": [
       "Index(['Ano', 'Dias para iniciar un negocio', 'Emisiones de CO2',\n",
       "       'Esperanza de vida (mujeres)', 'Esperanza de vida (varones)',\n",
       "       'Facilidad para hacer negocios', 'Gasto en salud ( del PIB)',\n",
       "       'Gasto en salud (per capita)', 'Horas preparar los impuestos',\n",
       "       'Interes de prestamos', 'PIB', 'Pais', 'Poblacion 0-14',\n",
       "       'Poblacion 15-64', 'Poblacion 65+', 'Poblacion total',\n",
       "       'Poblacion urbana', 'Region', 'Tasa de mortalidad infantil',\n",
       "       'Tasa de natalidad', 'Tasa tributaria empresarial', 'Turismo emisor',\n",
       "       'Turismo receptivo', 'Uso de Internet', 'Uso de energia',\n",
       "       'Uso de telefonos celulares', 'soloano', 'soloyear'],\n",
       "      dtype='object')"
      ]
     },
     "execution_count": 73,
     "metadata": {},
     "output_type": "execute_result"
    }
   ],
   "source": [
    "df.columns"
   ]
  },
  {
   "cell_type": "code",
   "execution_count": 74,
   "metadata": {},
   "outputs": [],
   "source": [
    "aux = df.copy()"
   ]
  },
  {
   "cell_type": "code",
   "execution_count": 75,
   "metadata": {},
   "outputs": [],
   "source": [
    "aux['year'] = pd.to_datetime(aux['Ano']).dt.year"
   ]
  },
  {
   "cell_type": "code",
   "execution_count": 76,
   "metadata": {},
   "outputs": [],
   "source": [
    "aux2 = aux.groupby(['year', 'Region'])['Gasto en salud (per capita)'].mean()"
   ]
  },
  {
   "cell_type": "code",
   "execution_count": 77,
   "metadata": {},
   "outputs": [
    {
     "data": {
      "text/plain": [
       "year  Region       \n",
       "2000  Africa             50.520000\n",
       "      Asia              182.100000\n",
       "      Europa           1143.454545\n",
       "      Las Americas      450.028571\n",
       "      Oceania           349.454545\n",
       "      Oriente Medio     427.846154\n",
       "2001  Africa             50.360000\n",
       "      Asia              169.800000\n",
       "      Europa           1177.045455\n",
       "      Las Americas      463.228571\n",
       "      Oceania           339.181818\n",
       "      Oriente Medio     459.230769\n",
       "2002  Africa             50.980000\n",
       "      Asia              169.612903\n",
       "      Europa           1359.477273\n",
       "      Las Americas      463.400000\n",
       "      Oceania           376.454545\n",
       "      Oriente Medio     449.076923\n",
       "2003  Africa             61.040000\n",
       "      Asia              196.129032\n",
       "      Europa           1704.250000\n",
       "      Las Americas      493.542857\n",
       "      Oceania           461.727273\n",
       "      Oriente Medio     511.000000\n",
       "2004  Africa             73.460000\n",
       "      Asia              215.580645\n",
       "      Europa           1975.931818\n",
       "      Las Americas      645.600000\n",
       "Name: Gasto en salud (per capita), dtype: float64"
      ]
     },
     "execution_count": 77,
     "metadata": {},
     "output_type": "execute_result"
    }
   ],
   "source": [
    "aux2"
   ]
  },
  {
   "cell_type": "code",
   "execution_count": 78,
   "metadata": {},
   "outputs": [],
   "source": [
    "aux3 = aux2.to_frame()\n",
    "# aux3['year2'] = aux2['year']"
   ]
  },
  {
   "cell_type": "code",
   "execution_count": 79,
   "metadata": {},
   "outputs": [],
   "source": [
    "aux3.reset_index(inplace=True)  "
   ]
  },
  {
   "cell_type": "code",
   "execution_count": 80,
   "metadata": {},
   "outputs": [],
   "source": [
    "aux4 = aux3.drop(['Region'], axis=1)"
   ]
  },
  {
   "cell_type": "code",
   "execution_count": 81,
   "metadata": {},
   "outputs": [
    {
     "data": {
      "text/html": [
       "<div>\n",
       "<style scoped>\n",
       "    .dataframe tbody tr th:only-of-type {\n",
       "        vertical-align: middle;\n",
       "    }\n",
       "\n",
       "    .dataframe tbody tr th {\n",
       "        vertical-align: top;\n",
       "    }\n",
       "\n",
       "    .dataframe thead th {\n",
       "        text-align: right;\n",
       "    }\n",
       "</style>\n",
       "<table border=\"1\" class=\"dataframe\">\n",
       "  <thead>\n",
       "    <tr style=\"text-align: right;\">\n",
       "      <th></th>\n",
       "      <th>year</th>\n",
       "      <th>Gasto en salud (per capita)</th>\n",
       "    </tr>\n",
       "  </thead>\n",
       "  <tbody>\n",
       "    <tr>\n",
       "      <th>0</th>\n",
       "      <td>2000</td>\n",
       "      <td>50.520000</td>\n",
       "    </tr>\n",
       "    <tr>\n",
       "      <th>1</th>\n",
       "      <td>2000</td>\n",
       "      <td>182.100000</td>\n",
       "    </tr>\n",
       "    <tr>\n",
       "      <th>2</th>\n",
       "      <td>2000</td>\n",
       "      <td>1143.454545</td>\n",
       "    </tr>\n",
       "    <tr>\n",
       "      <th>3</th>\n",
       "      <td>2000</td>\n",
       "      <td>450.028571</td>\n",
       "    </tr>\n",
       "    <tr>\n",
       "      <th>4</th>\n",
       "      <td>2000</td>\n",
       "      <td>349.454545</td>\n",
       "    </tr>\n",
       "    <tr>\n",
       "      <th>5</th>\n",
       "      <td>2000</td>\n",
       "      <td>427.846154</td>\n",
       "    </tr>\n",
       "    <tr>\n",
       "      <th>6</th>\n",
       "      <td>2001</td>\n",
       "      <td>50.360000</td>\n",
       "    </tr>\n",
       "    <tr>\n",
       "      <th>7</th>\n",
       "      <td>2001</td>\n",
       "      <td>169.800000</td>\n",
       "    </tr>\n",
       "    <tr>\n",
       "      <th>8</th>\n",
       "      <td>2001</td>\n",
       "      <td>1177.045455</td>\n",
       "    </tr>\n",
       "    <tr>\n",
       "      <th>9</th>\n",
       "      <td>2001</td>\n",
       "      <td>463.228571</td>\n",
       "    </tr>\n",
       "    <tr>\n",
       "      <th>10</th>\n",
       "      <td>2001</td>\n",
       "      <td>339.181818</td>\n",
       "    </tr>\n",
       "    <tr>\n",
       "      <th>11</th>\n",
       "      <td>2001</td>\n",
       "      <td>459.230769</td>\n",
       "    </tr>\n",
       "    <tr>\n",
       "      <th>12</th>\n",
       "      <td>2002</td>\n",
       "      <td>50.980000</td>\n",
       "    </tr>\n",
       "    <tr>\n",
       "      <th>13</th>\n",
       "      <td>2002</td>\n",
       "      <td>169.612903</td>\n",
       "    </tr>\n",
       "    <tr>\n",
       "      <th>14</th>\n",
       "      <td>2002</td>\n",
       "      <td>1359.477273</td>\n",
       "    </tr>\n",
       "    <tr>\n",
       "      <th>15</th>\n",
       "      <td>2002</td>\n",
       "      <td>463.400000</td>\n",
       "    </tr>\n",
       "    <tr>\n",
       "      <th>16</th>\n",
       "      <td>2002</td>\n",
       "      <td>376.454545</td>\n",
       "    </tr>\n",
       "    <tr>\n",
       "      <th>17</th>\n",
       "      <td>2002</td>\n",
       "      <td>449.076923</td>\n",
       "    </tr>\n",
       "    <tr>\n",
       "      <th>18</th>\n",
       "      <td>2003</td>\n",
       "      <td>61.040000</td>\n",
       "    </tr>\n",
       "    <tr>\n",
       "      <th>19</th>\n",
       "      <td>2003</td>\n",
       "      <td>196.129032</td>\n",
       "    </tr>\n",
       "    <tr>\n",
       "      <th>20</th>\n",
       "      <td>2003</td>\n",
       "      <td>1704.250000</td>\n",
       "    </tr>\n",
       "    <tr>\n",
       "      <th>21</th>\n",
       "      <td>2003</td>\n",
       "      <td>493.542857</td>\n",
       "    </tr>\n",
       "    <tr>\n",
       "      <th>22</th>\n",
       "      <td>2003</td>\n",
       "      <td>461.727273</td>\n",
       "    </tr>\n",
       "    <tr>\n",
       "      <th>23</th>\n",
       "      <td>2003</td>\n",
       "      <td>511.000000</td>\n",
       "    </tr>\n",
       "    <tr>\n",
       "      <th>24</th>\n",
       "      <td>2004</td>\n",
       "      <td>73.460000</td>\n",
       "    </tr>\n",
       "    <tr>\n",
       "      <th>25</th>\n",
       "      <td>2004</td>\n",
       "      <td>215.580645</td>\n",
       "    </tr>\n",
       "    <tr>\n",
       "      <th>26</th>\n",
       "      <td>2004</td>\n",
       "      <td>1975.931818</td>\n",
       "    </tr>\n",
       "    <tr>\n",
       "      <th>27</th>\n",
       "      <td>2004</td>\n",
       "      <td>645.600000</td>\n",
       "    </tr>\n",
       "  </tbody>\n",
       "</table>\n",
       "</div>"
      ],
      "text/plain": [
       "    year  Gasto en salud (per capita)\n",
       "0   2000                    50.520000\n",
       "1   2000                   182.100000\n",
       "2   2000                  1143.454545\n",
       "3   2000                   450.028571\n",
       "4   2000                   349.454545\n",
       "5   2000                   427.846154\n",
       "6   2001                    50.360000\n",
       "7   2001                   169.800000\n",
       "8   2001                  1177.045455\n",
       "9   2001                   463.228571\n",
       "10  2001                   339.181818\n",
       "11  2001                   459.230769\n",
       "12  2002                    50.980000\n",
       "13  2002                   169.612903\n",
       "14  2002                  1359.477273\n",
       "15  2002                   463.400000\n",
       "16  2002                   376.454545\n",
       "17  2002                   449.076923\n",
       "18  2003                    61.040000\n",
       "19  2003                   196.129032\n",
       "20  2003                  1704.250000\n",
       "21  2003                   493.542857\n",
       "22  2003                   461.727273\n",
       "23  2003                   511.000000\n",
       "24  2004                    73.460000\n",
       "25  2004                   215.580645\n",
       "26  2004                  1975.931818\n",
       "27  2004                   645.600000"
      ]
     },
     "execution_count": 81,
     "metadata": {},
     "output_type": "execute_result"
    }
   ],
   "source": [
    "aux4"
   ]
  },
  {
   "cell_type": "code",
   "execution_count": 82,
   "metadata": {},
   "outputs": [],
   "source": [
    "aux4 = aux3[['year', 'Gasto en salud (per capita)']]"
   ]
  },
  {
   "cell_type": "code",
   "execution_count": 83,
   "metadata": {},
   "outputs": [],
   "source": [
    "aux5 = aux4.dropna()"
   ]
  },
  {
   "cell_type": "code",
   "execution_count": 84,
   "metadata": {},
   "outputs": [],
   "source": [
    "aux6 = aux5.groupby('year')['Gasto en salud (per capita)'].mean()"
   ]
  },
  {
   "cell_type": "code",
   "execution_count": 85,
   "metadata": {},
   "outputs": [],
   "source": [
    "aux7 = aux6.to_frame()"
   ]
  },
  {
   "cell_type": "code",
   "execution_count": 86,
   "metadata": {},
   "outputs": [
    {
     "data": {
      "text/plain": [
       "Index(['Gasto en salud (per capita)'], dtype='object')"
      ]
     },
     "execution_count": 86,
     "metadata": {},
     "output_type": "execute_result"
    }
   ],
   "source": [
    "aux7.columns"
   ]
  },
  {
   "cell_type": "code",
   "execution_count": 87,
   "metadata": {},
   "outputs": [
    {
     "data": {
      "text/plain": [
       "array(['Africa', 'Asia', 'Europa', 'Las Americas', 'Oceania',\n",
       "       'Oriente Medio'], dtype=object)"
      ]
     },
     "execution_count": 87,
     "metadata": {},
     "output_type": "execute_result"
    }
   ],
   "source": [
    "aux3['Region'].unique()"
   ]
  },
  {
   "cell_type": "code",
   "execution_count": 88,
   "metadata": {},
   "outputs": [
    {
     "data": {
      "text/plain": [
       "Index(['year', 'Gasto en salud (per capita)'], dtype='object')"
      ]
     },
     "execution_count": 88,
     "metadata": {},
     "output_type": "execute_result"
    }
   ],
   "source": [
    "aux4.columns"
   ]
  },
  {
   "cell_type": "code",
   "execution_count": 89,
   "metadata": {},
   "outputs": [
    {
     "data": {
      "text/plain": [
       "array([1., 1., 1., 1., 1., 1.])"
      ]
     },
     "execution_count": 89,
     "metadata": {},
     "output_type": "execute_result"
    }
   ],
   "source": [
    "np.ones(aux4[aux4['year'] == 2001]['Gasto en salud (per capita)'].shape[0])"
   ]
  },
  {
   "cell_type": "code",
   "execution_count": 90,
   "metadata": {},
   "outputs": [
    {
     "data": {
      "image/png": "[encoded data removed]",
      "text/plain": [
       "<Figure size 1000x1400 with 5 Axes>"
      ]
     },
     "metadata": {},
     "output_type": "display_data"
    }
   ],
   "source": [
    "fig, axs = plt.subplots(1, 5, sharex='col', sharey='row', figsize=(10, 14));\n",
    "plt.xticks(rotation='vertical')\n",
    "plt.subplots_adjust(wspace = 0, hspace=0)\n",
    "colors = ['blue', 'orange', 'green']\n",
    "plt.style.use('seaborn')\n",
    "for i, colname in enumerate(aux4['year'].unique()):\n",
    "    axs[i].boxplot(list(aux4[aux4['year'] == colname].T.values[1]))\n",
    "    axs[i].scatter(np.ones(aux4[aux4['year'] == colname]['Gasto en salud (per capita)'].shape[0]), aux4[aux4['year'] == colname]['Gasto en salud (per capita)'])\n",
    "#     axs[i].scatter(list(aux4[aux4['anio'] == colname].T.values[1]), aux4[colname], s=100, edgecolors=colors, linewidths=1, \n",
    "#                        facecolors='none')\n",
    "    axs[i].set_xticklabels([\"\"])\n",
    "    axs[i].set_xlabel(colname)\n",
    "    for tick in axs[i].get_xticklabels():\n",
    "        tick.set_rotation(0)"
   ]
  },
  {
   "cell_type": "markdown",
   "metadata": {},
   "source": [
    "## Punto 5\n",
    "\n",
    "Construya una gráfica similar a la siguiente usando el archivo `indicadores-mundiales.csv`. Promedio de gastos per capita por año.\n",
    "\n",
    "![act5](images/prom-region-edades-ano.png)"
   ]
  },
  {
   "cell_type": "code",
   "execution_count": 91,
   "metadata": {},
   "outputs": [],
   "source": [
    "aux = df.copy()"
   ]
  },
  {
   "cell_type": "code",
   "execution_count": 92,
   "metadata": {},
   "outputs": [],
   "source": [
    "aux['year'] = pd.to_datetime(aux['Ano']).dt.year"
   ]
  },
  {
   "cell_type": "code",
   "execution_count": 93,
   "metadata": {},
   "outputs": [],
   "source": [
    "aux2 = aux.groupby(['year', 'Region', 'Poblacion 0-14', 'Poblacion 15-64', 'Poblacion 65+'])['Gasto en salud (per capita)'].mean()"
   ]
  },
  {
   "cell_type": "code",
   "execution_count": 94,
   "metadata": {},
   "outputs": [
    {
     "data": {
      "text/plain": [
       "year  Region  Poblacion 0-14  Poblacion 15-64  Poblacion 65+\n",
       "2000  Africa  25.8            68.1             6.1              146.0\n",
       "              28.2            63.7             8.1              371.0\n",
       "              29.8            64.1             6.0              123.0\n",
       "              33.0            63.6             3.4              246.0\n",
       "              33.3            62.8             3.9              252.0\n",
       "Name: Gasto en salud (per capita), dtype: float64"
      ]
     },
     "execution_count": 94,
     "metadata": {},
     "output_type": "execute_result"
    }
   ],
   "source": [
    "aux2.head()"
   ]
  },
  {
   "cell_type": "code",
   "execution_count": 95,
   "metadata": {},
   "outputs": [],
   "source": [
    "aux3 = aux2.reset_index()"
   ]
  },
  {
   "cell_type": "code",
   "execution_count": 96,
   "metadata": {},
   "outputs": [],
   "source": [
    "aux3 = aux3.dropna()"
   ]
  },
  {
   "cell_type": "code",
   "execution_count": 97,
   "metadata": {},
   "outputs": [
    {
     "data": {
      "text/html": [
       "<div>\n",
       "<style scoped>\n",
       "    .dataframe tbody tr th:only-of-type {\n",
       "        vertical-align: middle;\n",
       "    }\n",
       "\n",
       "    .dataframe tbody tr th {\n",
       "        vertical-align: top;\n",
       "    }\n",
       "\n",
       "    .dataframe thead th {\n",
       "        text-align: right;\n",
       "    }\n",
       "</style>\n",
       "<table border=\"1\" class=\"dataframe\">\n",
       "  <thead>\n",
       "    <tr style=\"text-align: right;\">\n",
       "      <th></th>\n",
       "      <th>year</th>\n",
       "      <th>Region</th>\n",
       "      <th>Poblacion 0-14</th>\n",
       "      <th>Poblacion 15-64</th>\n",
       "      <th>Poblacion 65+</th>\n",
       "      <th>Gasto en salud (per capita)</th>\n",
       "    </tr>\n",
       "  </thead>\n",
       "  <tbody>\n",
       "    <tr>\n",
       "      <th>0</th>\n",
       "      <td>2000</td>\n",
       "      <td>Africa</td>\n",
       "      <td>25.8</td>\n",
       "      <td>68.1</td>\n",
       "      <td>6.1</td>\n",
       "      <td>146.0</td>\n",
       "    </tr>\n",
       "    <tr>\n",
       "      <th>1</th>\n",
       "      <td>2000</td>\n",
       "      <td>Africa</td>\n",
       "      <td>28.2</td>\n",
       "      <td>63.7</td>\n",
       "      <td>8.1</td>\n",
       "      <td>371.0</td>\n",
       "    </tr>\n",
       "    <tr>\n",
       "      <th>2</th>\n",
       "      <td>2000</td>\n",
       "      <td>Africa</td>\n",
       "      <td>29.8</td>\n",
       "      <td>64.1</td>\n",
       "      <td>6.0</td>\n",
       "      <td>123.0</td>\n",
       "    </tr>\n",
       "    <tr>\n",
       "      <th>3</th>\n",
       "      <td>2000</td>\n",
       "      <td>Africa</td>\n",
       "      <td>33.0</td>\n",
       "      <td>63.6</td>\n",
       "      <td>3.4</td>\n",
       "      <td>246.0</td>\n",
       "    </tr>\n",
       "    <tr>\n",
       "      <th>4</th>\n",
       "      <td>2000</td>\n",
       "      <td>Africa</td>\n",
       "      <td>33.3</td>\n",
       "      <td>62.8</td>\n",
       "      <td>3.9</td>\n",
       "      <td>252.0</td>\n",
       "    </tr>\n",
       "  </tbody>\n",
       "</table>\n",
       "</div>"
      ],
      "text/plain": [
       "   year  Region  Poblacion 0-14  Poblacion 15-64  Poblacion 65+  \\\n",
       "0  2000  Africa            25.8             68.1            6.1   \n",
       "1  2000  Africa            28.2             63.7            8.1   \n",
       "2  2000  Africa            29.8             64.1            6.0   \n",
       "3  2000  Africa            33.0             63.6            3.4   \n",
       "4  2000  Africa            33.3             62.8            3.9   \n",
       "\n",
       "   Gasto en salud (per capita)  \n",
       "0                        146.0  \n",
       "1                        371.0  \n",
       "2                        123.0  \n",
       "3                        246.0  \n",
       "4                        252.0  "
      ]
     },
     "execution_count": 97,
     "metadata": {},
     "output_type": "execute_result"
    }
   ],
   "source": [
    "aux3.head()"
   ]
  },
  {
   "cell_type": "code",
   "execution_count": 98,
   "metadata": {},
   "outputs": [],
   "source": [
    "(df.loc[df['Region'] == \"africa\", \"Region\"]) = \"Africa\"\n",
    "soloano=[]\n",
    "soloano = [ z.split('-')[0] for z in df.Ano]\n",
    "df['soloyear']=soloano"
   ]
  },
  {
   "cell_type": "code",
   "execution_count": 99,
   "metadata": {},
   "outputs": [
    {
     "data": {
      "text/plain": [
       "Text(0.5, 0.98, 'Region/Ano')"
      ]
     },
     "execution_count": 99,
     "metadata": {},
     "output_type": "execute_result"
    },
    {
     "data": {
      "image/png": "[encoded data removed]",
      "text/plain": [
       "<Figure size 1000x1000 with 18 Axes>"
      ]
     },
     "metadata": {},
     "output_type": "display_data"
    }
   ],
   "source": [
    "Anios= df.soloano.unique()\n",
    "AUX=pd.DataFrame()\n",
    "fig1, axs = plt.subplots(3, 6, sharex='col', sharey='row', figsize=(10, 10))\n",
    "plt.xticks(rotation='vertical')\n",
    "plt.subplots_adjust(wspace = 0, hspace=0)\n",
    "plt.style.use('default')\n",
    "lista=['Poblacion 0-14','Poblacion 15-64','Poblacion 65+']\n",
    "for w, indname in enumerate(lista):\n",
    "    for i, Anio in enumerate(Anios):\n",
    "        y=(df[df['soloyear'] == Anio].groupby('Region')[indname].mean()/100)\n",
    "        AUX[Anio]=y\n",
    "        y=[]\n",
    "    AUX.index=df['Region'].unique()\n",
    "    AUXT=AUX.T\n",
    "    for i, colname in enumerate(AUXT.columns):\n",
    "        axs[w,i].plot(AUXT[colname])\n",
    "        if w==0:\n",
    "            axs[w,i].set_title(colname)\n",
    "        if i==0:\n",
    "            axs[w,i].set_ylabel(indname)\n",
    "        for tick in axs[w,i].get_xticklabels():\n",
    "            tick.set_rotation(90)\n",
    "fig1.suptitle('Region/Ano', fontsize=16)"
   ]
  },
  {
   "cell_type": "markdown",
   "metadata": {},
   "source": [
    "---"
   ]
  }
 ],
 "metadata": {
  "kernel_info": {
   "name": "python3"
  },
  "kernelspec": {
   "display_name": "Python 3",
   "language": "python",
   "name": "python3"
  },
  "language_info": {
   "codemirror_mode": {
    "name": "ipython",
    "version": 3
   },
   "file_extension": ".py",
   "mimetype": "text/x-python",
   "name": "python",
   "nbconvert_exporter": "python",
   "pygments_lexer": "ipython3",
   "version": "3.6.7"
  },
  "nteract": {
   "version": "0.7.1"
  },
  "varInspector": {
   "cols": {
    "lenName": 16,
    "lenType": 16,
    "lenVar": 40
   },
   "kernels_config": {
    "python": {
     "delete_cmd_postfix": "",
     "delete_cmd_prefix": "del ",
     "library": "var_list.py",
     "varRefreshCmd": "print(var_dic_list())"
    },
    "r": {
     "delete_cmd_postfix": ") ",
     "delete_cmd_prefix": "rm(",
     "library": "var_list.r",
     "varRefreshCmd": "cat(var_dic_list()) "
    }
   },
   "types_to_exclude": [
    "module",
    "function",
    "builtin_function_or_method",
    "instance",
    "_Feature"
   ],
   "window_display": false
  }
 },
 "nbformat": 4,
 "nbformat_minor": 2
}
